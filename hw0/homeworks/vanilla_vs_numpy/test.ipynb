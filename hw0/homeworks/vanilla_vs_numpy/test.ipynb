{
 "cells": [
  {
   "cell_type": "code",
   "execution_count": 1,
   "metadata": {},
   "outputs": [
    {
     "ename": "NameError",
     "evalue": "name 'Matrix' is not defined",
     "output_type": "error",
     "traceback": [
      "\u001b[0;31m---------------------------------------------------------------------------\u001b[0m",
      "\u001b[0;31mNameError\u001b[0m                                 Traceback (most recent call last)",
      "\u001b[1;32m/media/octipus/ad098048-2ec2-425c-b95b-4940e9cd3d83/446/homeworks/vanilla_vs_numpy/test.ipynb Cell 1\u001b[0m line \u001b[0;36m1\n\u001b[0;32m----> <a href='vscode-notebook-cell:/media/octipus/ad098048-2ec2-425c-b95b-4940e9cd3d83/446/homeworks/vanilla_vs_numpy/test.ipynb#W1sZmlsZQ%3D%3D?line=0'>1</a>\u001b[0m \u001b[39mdef\u001b[39;00m \u001b[39mvanilla_matmul\u001b[39m(A: Matrix, x: Vector) \u001b[39m-\u001b[39m\u001b[39m>\u001b[39m Vector:\n\u001b[1;32m      <a href='vscode-notebook-cell:/media/octipus/ad098048-2ec2-425c-b95b-4940e9cd3d83/446/homeworks/vanilla_vs_numpy/test.ipynb#W1sZmlsZQ%3D%3D?line=1'>2</a>\u001b[0m \u001b[39m    \u001b[39m\u001b[39m\"\"\"Performs a matrix multiplications Ax on vanilla python lists.\u001b[39;00m\n\u001b[1;32m      <a href='vscode-notebook-cell:/media/octipus/ad098048-2ec2-425c-b95b-4940e9cd3d83/446/homeworks/vanilla_vs_numpy/test.ipynb#W1sZmlsZQ%3D%3D?line=2'>3</a>\u001b[0m \n\u001b[1;32m      <a href='vscode-notebook-cell:/media/octipus/ad098048-2ec2-425c-b95b-4940e9cd3d83/446/homeworks/vanilla_vs_numpy/test.ipynb#W1sZmlsZQ%3D%3D?line=3'>4</a>\u001b[0m \u001b[39m    Args:\u001b[39;00m\n\u001b[0;32m   (...)\u001b[0m\n\u001b[1;32m     <a href='vscode-notebook-cell:/media/octipus/ad098048-2ec2-425c-b95b-4940e9cd3d83/446/homeworks/vanilla_vs_numpy/test.ipynb#W1sZmlsZQ%3D%3D?line=11'>12</a>\u001b[0m \u001b[39m        In this problem specifically d = n, since A and B are square matrices.\u001b[39;00m\n\u001b[1;32m     <a href='vscode-notebook-cell:/media/octipus/ad098048-2ec2-425c-b95b-4940e9cd3d83/446/homeworks/vanilla_vs_numpy/test.ipynb#W1sZmlsZQ%3D%3D?line=12'>13</a>\u001b[0m \u001b[39m    \"\"\"\u001b[39;00m\n\u001b[1;32m     <a href='vscode-notebook-cell:/media/octipus/ad098048-2ec2-425c-b95b-4940e9cd3d83/446/homeworks/vanilla_vs_numpy/test.ipynb#W1sZmlsZQ%3D%3D?line=13'>14</a>\u001b[0m     result: Vector \u001b[39m=\u001b[39m []\n",
      "\u001b[0;31mNameError\u001b[0m: name 'Matrix' is not defined"
     ]
    }
   ],
   "source": [
    "# Import numpy <- You will see this line a lot\n",
    "# Import time for testing function\n",
    "import time\n",
    "\n",
    "# Import typing support\n",
    "from typing import List\n",
    "\n",
    "import matplotlib.pyplot as plt\n",
    "import numpy as np\n",
    "\n",
    "# And our custom utilities library\n",
    "from utils import problem\n",
    "\n",
    "Vector = List[float]\n",
    "Matrix = List[Vector]\n",
    "def vanilla_matmul(A: Matrix, x: Vector) -> Vector:\n",
    "    \"\"\"Performs a matrix multiplications Ax on vanilla python lists.\n",
    "\n",
    "    Args:\n",
    "        A (Matrix): a (n, d) matrix.\n",
    "        x (Vector): a (d,) vector.\n",
    "\n",
    "    Returns:\n",
    "        Vector: a resulting (n,) vector.\n",
    "\n",
    "    Note:\n",
    "        In this problem specifically d = n, since A and B are square matrices.\n",
    "    \"\"\"\n",
    "    result: Vector = []\n",
    "    for a in A:\n",
    "        result_a = 0.0\n",
    "        for a_i, x_i in zip(a, x):\n",
    "            result_a += a_i * x_i\n",
    "        result.append(result_a)\n",
    "    return result\n",
    "\n",
    "\n",
    "def vanilla_transpose(A: Matrix) -> Matrix:\n",
    "    \"\"\"Performs a matrix transpose\n",
    "\n",
    "    Args:\n",
    "        A (Matrix): a (n, d) matrix.\n",
    "\n",
    "    Returns:\n",
    "        Matrix: a resulting (d, n) matrix.\n",
    "    \"\"\"\n",
    "    result: Matrix = [[] for _ in A[0]]  # Create list of d lists\n",
    "    for a in A:\n",
    "        for jdx, value in enumerate(a):\n",
    "            result[jdx].append(value)\n",
    "    return result"
   ]
  },
  {
   "cell_type": "code",
   "execution_count": null,
   "metadata": {},
   "outputs": [],
   "source": [
    "def calc_kth(k):\n",
    "    "
   ]
  }
 ],
 "metadata": {
  "kernelspec": {
   "display_name": "cse446",
   "language": "python",
   "name": "python3"
  },
  "language_info": {
   "codemirror_mode": {
    "name": "ipython",
    "version": 3
   },
   "file_extension": ".py",
   "mimetype": "text/x-python",
   "name": "python",
   "nbconvert_exporter": "python",
   "pygments_lexer": "ipython3",
   "version": "3.8.10"
  },
  "orig_nbformat": 4
 },
 "nbformat": 4,
 "nbformat_minor": 2
}
