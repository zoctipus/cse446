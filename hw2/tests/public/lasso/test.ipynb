{
 "cells": [
  {
   "cell_type": "code",
   "execution_count": 1,
   "metadata": {},
   "outputs": [],
   "source": [
    "import numpy as np"
   ]
  },
  {
   "cell_type": "code",
   "execution_count": 117,
   "metadata": {},
   "outputs": [],
   "source": [
    "X = np.array([[0.2, 0.3], [0.4, 0.3], [0.1, -0.5], [-0.4, 0.5]])\n",
    "y = np.array([0.1, 0.2, -0.1, 0.2])\n",
    "weight = np.array([0.5, 1.5])  # L2 norm is sqrt(2.5)\n",
    "bias = 0.1\n",
    "_lambda = 0.5\n",
    "eta = 0.5\n",
    "\n",
    "expected_weight = [0.0, 0.195]\n",
    "expected_bias = -0.95"
   ]
  },
  {
   "cell_type": "code",
   "execution_count": 118,
   "metadata": {},
   "outputs": [],
   "source": [
    "def step(\n",
    "    X: np.ndarray, y: np.ndarray, weight: np.ndarray, bias: float, _lambda: float, eta: float\n",
    ") -> [np.ndarray, float]:\n",
    "    \"\"\"Single step in ISTA algorithm.\n",
    "    It should update every entry in weight, and then return an updated version of weight along with calculated bias on input weight!\n",
    "\n",
    "    Args:\n",
    "        X (np.ndarray): An (n x d) matrix, with n observations each with d features.\n",
    "        y (np.ndarray): An (n, ) array, with n observations of targets.\n",
    "        weight (np.ndarray): An (d,) array. Weight returned from the step before.\n",
    "        bias (float): Bias returned from the step before.\n",
    "        _lambda (float): Regularization constant. Determines when weight is updated to 0, and when to other values.\n",
    "        eta (float): Step-size. Determines how far the ISTA iteration moves for each step.\n",
    "\n",
    "    Returns:\n",
    "        Tuple[np.ndarray, float]: Tuple with 2 entries. First represents updated weight vector, second represents bias.\n",
    "\n",
    "    \"\"\"\n",
    "    # raise NotImplementedError(\"Your Code Goes Here\")\n",
    "    print(\"Initial weight: %s\", weight)\n",
    "    print(\"Initial bias: %s\", bias)\n",
    "\n",
    "    # Compute gradient for weight\n",
    "    # gradient =  X.T @ (X @ weight + bias - y)/X.shape[0] + (_lambda * np.sign(weight))\n",
    "    gradient =  2 * (X.T @ (X @ weight + bias - y))\n",
    "    print(\"Computed gradient for weight: %s\", gradient)\n",
    "\n",
    "    # Update weight\n",
    "    w_ = weight - eta * gradient\n",
    "\n",
    "    w_ = np.where(\n",
    "    w_ > 2 * eta * _lambda, w_ - 2 * eta * (_lambda),\n",
    "    np.where(\n",
    "        w_ < -2 * eta * _lambda, w_ +  2 * eta * (_lambda), 0\n",
    "    ))\n",
    "    print(\"Updated weight: %s\", w_)\n",
    "    print(\"Expected weight: %s\", expected_weight)\n",
    "\n",
    "\n",
    "    # Compute gradient for bias\n",
    "    gradient_b = 2 * np.sum(X @ weight + bias - y)\n",
    "    print(\"Computed gradient for bias: %s\", gradient_b)\n",
    "\n",
    "    # Update bias\n",
    "    b_ = bias - eta * gradient_b\n",
    "    print(\"Updated bias: %s\", b_)\n",
    "    print(\"Expected bias: %s\", expected_bias)\n",
    "\n",
    "\n",
    "    return w_, b_"
   ]
  },
  {
   "cell_type": "code",
   "execution_count": 119,
   "metadata": {},
   "outputs": [
    {
     "name": "stdout",
     "output_type": "stream",
     "text": [
      "Initial weight: %s [0.5 1.5]\n",
      "Initial bias: %s 0.1\n",
      "Computed gradient for weight: %s [0.2  1.61]\n",
      "Updated weight: %s [0.    0.195]\n",
      "Expected weight: %s [0.0, 0.195]\n",
      "Computed gradient for bias: %s 2.099999999999999\n",
      "Updated bias: %s -0.9499999999999996\n",
      "Expected bias: %s -0.95\n"
     ]
    }
   ],
   "source": [
    "actual_weight, actual_bias = step(X, y, np.copy(weight), bias, _lambda, eta)"
   ]
  },
  {
   "cell_type": "code",
   "execution_count": 120,
   "metadata": {},
   "outputs": [
    {
     "data": {
      "text/plain": [
       "array([0.   , 0.195])"
      ]
     },
     "execution_count": 120,
     "metadata": {},
     "output_type": "execute_result"
    }
   ],
   "source": [
    "actual_weight"
   ]
  },
  {
   "cell_type": "code",
   "execution_count": 121,
   "metadata": {},
   "outputs": [],
   "source": [
    "X = np.array([[0.2, 0.3], [0.4, 0.3], [0.1, -0.5], [-0.4, 0.5]])\n",
    "y = np.array([0.1, 0.2, -0.1, 0.2])\n",
    "weight = np.array([-0.5, 1.5])  # L1 norm is 2\n",
    "bias = 0.1\n",
    "_lambda = 1\n",
    "\n",
    "expected = 3.2275"
   ]
  },
  {
   "cell_type": "code",
   "execution_count": 65,
   "metadata": {},
   "outputs": [],
   "source": [
    "def loss(\n",
    "    X: np.ndarray, y: np.ndarray, weight: np.ndarray, bias: float, _lambda: float\n",
    ") -> float:\n",
    "    \"\"\"L-1 (Lasso) regularized MSE loss.\n",
    "\n",
    "    Args:\n",
    "        X (np.ndarray): An (n x d) matrix, with n observations each with d features.\n",
    "        y (np.ndarray): An (n, ) array, with n observations of targets.\n",
    "        weight (np.ndarray): An (d,) array. Currently predicted weights.\n",
    "        bias (float): Currently predicted bias.\n",
    "        _lambda (float): Regularization constant. Should be used along with L1 norm of weight.\n",
    "\n",
    "    Returns:\n",
    "        float: value of the loss function\n",
    "    \"\"\"\n",
    "\n",
    "    J = np.sum((y - (X @ weight + bias)) ** 2) + _lambda * np.sum(np.abs(weight))\n",
    "    return J"
   ]
  },
  {
   "cell_type": "code",
   "execution_count": 66,
   "metadata": {},
   "outputs": [],
   "source": [
    "actual = loss(X, y, weight, bias, _lambda)"
   ]
  },
  {
   "cell_type": "code",
   "execution_count": 67,
   "metadata": {},
   "outputs": [
    {
     "data": {
      "text/plain": [
       "(3.2275, 3.2275)"
      ]
     },
     "execution_count": 67,
     "metadata": {},
     "output_type": "execute_result"
    }
   ],
   "source": [
    "actual, expected"
   ]
  },
  {
   "cell_type": "code",
   "execution_count": 142,
   "metadata": {},
   "outputs": [],
   "source": [
    "k = 100\n",
    "d = 1000\n",
    "sigma = 0.2\n",
    "n = 500"
   ]
  },
  {
   "cell_type": "code",
   "execution_count": 159,
   "metadata": {},
   "outputs": [],
   "source": [
    "w = np.zeros(d,)\n",
    "w[0:k] = w[0:k] + np.arange(1, k+1)/k"
   ]
  },
  {
   "cell_type": "code",
   "execution_count": 160,
   "metadata": {},
   "outputs": [
    {
     "data": {
      "image/png": "[encoded data removed]",
      "text/plain": [
       "<Figure size 1000x400 with 1 Axes>"
      ]
     },
     "metadata": {},
     "output_type": "display_data"
    }
   ],
   "source": [
    "import matplotlib.pyplot as plt\n",
    "\n",
    "plt.figure(figsize=(10, 4))\n",
    "plt.plot(w)\n",
    "plt.title(\"Plot of w\")\n",
    "plt.xlabel(\"Index\")\n",
    "plt.ylabel(\"Value\")\n",
    "plt.show()"
   ]
  },
  {
   "cell_type": "code",
   "execution_count": 163,
   "metadata": {},
   "outputs": [],
   "source": [
    "#data generation\n",
    "X = np.random.randn(3, 4)\n",
    "w = np.zeros(4,)\n",
    "w[0:2] = w[0:2] + np.arange(1, 2+1)/2\n",
    "y = X @ w + np.random.normal(0, 1, 3)"
   ]
  },
  {
   "cell_type": "code",
   "execution_count": 164,
   "metadata": {},
   "outputs": [
    {
     "data": {
      "text/plain": [
       "array([ 1.27635562, -0.67715648, -0.59919914])"
      ]
     },
     "execution_count": 164,
     "metadata": {},
     "output_type": "execute_result"
    }
   ],
   "source": [
    "(y - np.average(y))"
   ]
  },
  {
   "cell_type": "code",
   "execution_count": 165,
   "metadata": {},
   "outputs": [
    {
     "data": {
      "text/plain": [
       "array([[ 0.08381349,  0.06332732, -1.81939026, -1.34803536],\n",
       "       [-0.24053098, -1.17006257, -1.03940771, -0.30104212],\n",
       "       [ 0.30783316, -0.15251928,  1.00449695,  0.6158303 ]])"
      ]
     },
     "execution_count": 165,
     "metadata": {},
     "output_type": "execute_result"
    }
   ],
   "source": [
    "X"
   ]
  },
  {
   "cell_type": "code",
   "execution_count": 152,
   "metadata": {},
   "outputs": [
    {
     "data": {
      "text/plain": [
       "array([ 2.342998  ,  2.48202956, 11.39002974,  0.        ])"
      ]
     },
     "execution_count": 152,
     "metadata": {},
     "output_type": "execute_result"
    }
   ],
   "source": [
    "np.abs([1, 2,3,0] * np.sum(X, axis=0))"
   ]
  },
  {
   "cell_type": "code",
   "execution_count": 153,
   "metadata": {},
   "outputs": [
    {
     "data": {
      "text/plain": [
       "11.390029736750076"
      ]
     },
     "execution_count": 153,
     "metadata": {},
     "output_type": "execute_result"
    }
   ],
   "source": [
    "np.max(np.abs([1, 2,3,0] * np.sum(X, axis=0)))"
   ]
  },
  {
   "cell_type": "code",
   "execution_count": 158,
   "metadata": {},
   "outputs": [
    {
     "data": {
      "image/png": "[encoded data removed]",
      "text/plain": [
       "<Figure size 1000x400 with 1 Axes>"
      ]
     },
     "metadata": {},
     "output_type": "display_data"
    }
   ],
   "source": [
    "import csv\n",
    "import matplotlib.pyplot as plt\n",
    "\n",
    "# Initialize empty lists to hold lambda and zero_percentage values\n",
    "lams = []\n",
    "zero_percentages = []\n",
    "# Read the progress.txt file\n",
    "with open('/media/octipus/ad098048-2ec2-425c-b95b-4940e9cd3d83/446/hw2/homeworks/lasso/progress.txt', 'r') as f:\n",
    "    csv_reader = csv.reader(f)\n",
    "    next(csv_reader, None)  # Skip the header\n",
    "    for row in csv_reader:\n",
    "        _lambda, zero_percentage = row\n",
    "        lams.append(float(_lambda))\n",
    "        zero_percentages.append(float(zero_percentage))\n",
    "\n",
    "# Convert lists to arrays if you want, for more complex numerical operations\n",
    "# lams = np.array(lams)\n",
    "# zero_percentages = np.array(zero_percentages)\n",
    "\n",
    "# Plotting\n",
    "plt.figure(figsize=(10, 4))\n",
    "plt.plot(lams, zero_percentages)\n",
    "plt.xscale('log')  # Use a log scale for better visibility\n",
    "plt.title('Progress Plot')\n",
    "plt.xlabel('Lambda')\n",
    "plt.ylabel('Zero Percentage')\n",
    "plt.show()"
   ]
  },
  {
   "cell_type": "code",
   "execution_count": null,
   "metadata": {},
   "outputs": [],
   "source": []
  }
 ],
 "metadata": {
  "kernelspec": {
   "display_name": "cse446",
   "language": "python",
   "name": "python3"
  },
  "language_info": {
   "codemirror_mode": {
    "name": "ipython",
    "version": 3
   },
   "file_extension": ".py",
   "mimetype": "text/x-python",
   "name": "python",
   "nbconvert_exporter": "python",
   "pygments_lexer": "ipython3",
   "version": "3.8.10"
  }
 },
 "nbformat": 4,
 "nbformat_minor": 2
}
